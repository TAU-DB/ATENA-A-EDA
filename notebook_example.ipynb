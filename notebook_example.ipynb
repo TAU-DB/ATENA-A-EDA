{
 "cells": [
  {
   "cell_type": "code",
   "execution_count": 1,
   "metadata": {},
   "outputs": [],
   "source": [
    "from atena.evaluation.metrics import (\n",
    "    EvalInstance,\n",
    "    get_dataframe_all_eval_metrics\n",
    ")\n",
    "from atena.simulation.dataset import (\n",
    "    Dataset,\n",
    "    DatasetMeta,\n",
    "    DatasetName,\n",
    "    SchemaName,\n",
    ")\n",
    "from atena.simulation.utils import random_action_generator\n",
    "from atena.simulation.utils import random_action_generator"
   ]
  },
  {
   "cell_type": "markdown",
   "metadata": {},
   "source": [
    "# Evaluation Example\n",
    "Here, we generate for each dataset 12 random actions and we give the aggregated (average for non Tree-Blue metrics and corupus-aggregated for Tree Bleu metrics) score of each metric."
   ]
  },
  {
   "cell_type": "markdown",
   "metadata": {},
   "source": [
    "## Creating evaluation instances"
   ]
  },
  {
   "cell_type": "code",
   "execution_count": 2,
   "metadata": {},
   "outputs": [],
   "source": [
    "eval_instances = []\n",
    "\n",
    "for schema in SchemaName:\n",
    "    for dataset_name in schema.dataset_names:\n",
    "        eval_dataset_meta = DatasetMeta(schema, dataset_name=dataset_name)\n",
    "        eval_instance = EvalInstance(\n",
    "            eval_dataset_meta,\n",
    "            actions_lst=[random_action_generator(Dataset(eval_dataset_meta)) for _ in range(12)]\n",
    "        )\n",
    "        eval_instances.append(eval_instance)"
   ]
  },
  {
   "cell_type": "markdown",
   "metadata": {},
   "source": [
    "## Compute metrics' scores\n",
    "This can take some time. Go and grab some coffee..."
   ]
  },
  {
   "cell_type": "code",
   "execution_count": 3,
   "metadata": {},
   "outputs": [
    {
     "data": {
      "text/html": [
       "<div>\n",
       "<style scoped>\n",
       "    .dataframe tbody tr th:only-of-type {\n",
       "        vertical-align: middle;\n",
       "    }\n",
       "\n",
       "    .dataframe tbody tr th {\n",
       "        vertical-align: top;\n",
       "    }\n",
       "\n",
       "    .dataframe thead th {\n",
       "        text-align: right;\n",
       "    }\n",
       "</style>\n",
       "<table border=\"1\" class=\"dataframe\">\n",
       "  <thead>\n",
       "    <tr style=\"text-align: right;\">\n",
       "      <th></th>\n",
       "      <th>Precision</th>\n",
       "      <th>T-BLUE-1</th>\n",
       "      <th>T-BLUE-2</th>\n",
       "      <th>T-BLUE-3</th>\n",
       "      <th>EDA-Sim</th>\n",
       "    </tr>\n",
       "  </thead>\n",
       "  <tbody>\n",
       "    <tr>\n",
       "      <th>0</th>\n",
       "      <td>0.1687</td>\n",
       "      <td>0.142857</td>\n",
       "      <td>0.071429</td>\n",
       "      <td>0.051206</td>\n",
       "      <td>0.246571</td>\n",
       "    </tr>\n",
       "  </tbody>\n",
       "</table>\n",
       "</div>"
      ],
      "text/plain": [
       "   Precision  T-BLUE-1  T-BLUE-2  T-BLUE-3   EDA-Sim\n",
       "0     0.1687  0.142857  0.071429  0.051206  0.246571"
      ]
     },
     "execution_count": 3,
     "metadata": {},
     "output_type": "execute_result"
    }
   ],
   "source": [
    "get_dataframe_all_eval_metrics(eval_instances)"
   ]
  }
 ],
 "metadata": {
  "kernelspec": {
   "display_name": "Python (openAiGym2)",
   "language": "python",
   "name": "openaigym2"
  },
  "language_info": {
   "codemirror_mode": {
    "name": "ipython",
    "version": 3
   },
   "file_extension": ".py",
   "mimetype": "text/x-python",
   "name": "python",
   "nbconvert_exporter": "python",
   "pygments_lexer": "ipython3",
   "version": "3.6.7"
  }
 },
 "nbformat": 4,
 "nbformat_minor": 2
}
