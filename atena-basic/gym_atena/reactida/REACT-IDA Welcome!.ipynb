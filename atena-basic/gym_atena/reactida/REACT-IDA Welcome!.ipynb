{
 "cells": [
  {
   "cell_type": "markdown",
   "metadata": {},
   "source": [
    "# Getting Started \n",
    "\n",
    "We intuitively explain how to use the sessions collection, recreate actions and displays and determine their distance"
   ]
  },
  {
   "cell_type": "markdown",
   "metadata": {},
   "source": [
    "## Initialize a Repository object\n",
    "The constructor takes as input (1) the path to the actions tsv file (2) the path to the displays tsv file and (3) the path to the raw datasets"
   ]
  },
  {
   "cell_type": "code",
   "execution_count": 1,
   "metadata": {
    "collapsed": false
   },
   "outputs": [],
   "source": [
    "from lib.utilities import Repository"
   ]
  },
  {
   "cell_type": "code",
   "execution_count": 22,
   "metadata": {
    "collapsed": false
   },
   "outputs": [],
   "source": [
    "repo=Repository('./session_repositories/actions.tsv','./session_repositories/displays.tsv','./raw_datasets/')"
   ]
  },
  {
   "cell_type": "markdown",
   "metadata": {},
   "source": [
    "## Examining the session collections\n",
    "Lets take a look first at the actions, then the results \"displays\"\n",
    "\n"
   ]
  },
  {
   "cell_type": "markdown",
   "metadata": {},
   "source": [
    "### Analysis Actions\n",
    "First, see that each action has a unique id.\n",
    "Since the analysis interface used by the users is parameterized, each action is described by the \"action_type\" and the \"action_params\" values.\n",
    "\n",
    "Now, see that the actions are parts of sessions (i.e. sequences of queries). Thereore we provide the \"session_id\" and \"user_id\", as well as the parent and child \"display\" (i.e. the results screen) id. \n",
    "\n",
    "Last, see that the \"solution\" value denotes if the particular action is a part from a successful session that \"solved\" the data analsysis challenge.  "
   ]
  },
  {
   "cell_type": "code",
   "execution_count": 23,
   "metadata": {
    "collapsed": false
   },
   "outputs": [
    {
     "data": {
      "text/html": [
       "<div>\n",
       "<table border=\"1\" class=\"dataframe\">\n",
       "  <thead>\n",
       "    <tr style=\"text-align: right;\">\n",
       "      <th></th>\n",
       "      <th>action_id</th>\n",
       "      <th>action_type</th>\n",
       "      <th>action_params</th>\n",
       "      <th>session_id</th>\n",
       "      <th>user_id</th>\n",
       "      <th>project_id</th>\n",
       "      <th>creation_time</th>\n",
       "      <th>parent_display_id</th>\n",
       "      <th>child_display_id</th>\n",
       "      <th>solution</th>\n",
       "    </tr>\n",
       "  </thead>\n",
       "  <tbody>\n",
       "    <tr>\n",
       "      <th>0</th>\n",
       "      <td>1</td>\n",
       "      <td>group</td>\n",
       "      <td>{'aggregations': [], 'field': 'eth_src', 'grou...</td>\n",
       "      <td>1</td>\n",
       "      <td>1</td>\n",
       "      <td>1</td>\n",
       "      <td>2016-08-14 12:44:05</td>\n",
       "      <td>1</td>\n",
       "      <td>2</td>\n",
       "      <td>True</td>\n",
       "    </tr>\n",
       "    <tr>\n",
       "      <th>1</th>\n",
       "      <td>2</td>\n",
       "      <td>group</td>\n",
       "      <td>{'aggregations': [], 'field': 'ip_src', 'group...</td>\n",
       "      <td>1</td>\n",
       "      <td>1</td>\n",
       "      <td>1</td>\n",
       "      <td>2016-08-14 12:44:08</td>\n",
       "      <td>2</td>\n",
       "      <td>3</td>\n",
       "      <td>True</td>\n",
       "    </tr>\n",
       "    <tr>\n",
       "      <th>2</th>\n",
       "      <td>3</td>\n",
       "      <td>group</td>\n",
       "      <td>{'aggregations': [{'field': 'length', 'type': ...</td>\n",
       "      <td>2</td>\n",
       "      <td>5</td>\n",
       "      <td>1</td>\n",
       "      <td>2016-08-15 09:40:42</td>\n",
       "      <td>4</td>\n",
       "      <td>5</td>\n",
       "      <td>True</td>\n",
       "    </tr>\n",
       "    <tr>\n",
       "      <th>3</th>\n",
       "      <td>4</td>\n",
       "      <td>group</td>\n",
       "      <td>{'aggregations': [{'field': 'length', 'type': ...</td>\n",
       "      <td>2</td>\n",
       "      <td>5</td>\n",
       "      <td>1</td>\n",
       "      <td>2016-08-15 13:13:54</td>\n",
       "      <td>4</td>\n",
       "      <td>6</td>\n",
       "      <td>True</td>\n",
       "    </tr>\n",
       "    <tr>\n",
       "      <th>4</th>\n",
       "      <td>5</td>\n",
       "      <td>group</td>\n",
       "      <td>{'aggregations': [], 'field': 'ip_src', 'group...</td>\n",
       "      <td>2</td>\n",
       "      <td>5</td>\n",
       "      <td>1</td>\n",
       "      <td>2016-08-15 13:14:10</td>\n",
       "      <td>4</td>\n",
       "      <td>7</td>\n",
       "      <td>True</td>\n",
       "    </tr>\n",
       "  </tbody>\n",
       "</table>\n",
       "</div>"
      ],
      "text/plain": [
       "   action_id action_type                                      action_params  \\\n",
       "0          1       group  {'aggregations': [], 'field': 'eth_src', 'grou...   \n",
       "1          2       group  {'aggregations': [], 'field': 'ip_src', 'group...   \n",
       "2          3       group  {'aggregations': [{'field': 'length', 'type': ...   \n",
       "3          4       group  {'aggregations': [{'field': 'length', 'type': ...   \n",
       "4          5       group  {'aggregations': [], 'field': 'ip_src', 'group...   \n",
       "\n",
       "   session_id  user_id  project_id        creation_time  parent_display_id  \\\n",
       "0           1        1           1  2016-08-14 12:44:05                  1   \n",
       "1           1        1           1  2016-08-14 12:44:08                  2   \n",
       "2           2        5           1  2016-08-15 09:40:42                  4   \n",
       "3           2        5           1  2016-08-15 13:13:54                  4   \n",
       "4           2        5           1  2016-08-15 13:14:10                  4   \n",
       "\n",
       "   child_display_id solution  \n",
       "0                 2     True  \n",
       "1                 3     True  \n",
       "2                 5     True  \n",
       "3                 6     True  \n",
       "4                 7     True  "
      ]
     },
     "execution_count": 23,
     "metadata": {},
     "output_type": "execute_result"
    }
   ],
   "source": [
    "repo.actions.head()"
   ]
  },
  {
   "cell_type": "markdown",
   "metadata": {},
   "source": [
    "### Results \"Displays\"\n",
    "\n",
    "The results displays correspond to the screen examined by the particular user after performing an action. Note that in the web-based analysis interface we used, users can go \"back\" to a previous screen, then issue another action. \n",
    "\n",
    "Each display has a unique id, that correspond to the action that initiated it: the display id appear in the actions table as the \"child_display_id\" of the action that initiated it.\n",
    "\n",
    "As displays may convey the results of several consecutive analysis actions, the fields 'filtering','sorting','grouping' and 'aggregations' describe, all together, the current actions employed.\n",
    "\n",
    "Next, the \"data_layer\" field contains a structural summary that describe the data layer (namely the number of unique values, null values and the values entropy for each column).\n",
    "A similar summary appears in \"granularity_layer\", describing the grouping and aggregations layer currently examined.\n",
    "\n",
    "\n"
   ]
  },
  {
   "cell_type": "code",
   "execution_count": 26,
   "metadata": {
    "collapsed": false
   },
   "outputs": [
    {
     "data": {
      "text/html": [
       "<div>\n",
       "<table border=\"1\" class=\"dataframe\">\n",
       "  <thead>\n",
       "    <tr style=\"text-align: right;\">\n",
       "      <th></th>\n",
       "      <th>display_id</th>\n",
       "      <th>filtering</th>\n",
       "      <th>sorting</th>\n",
       "      <th>grouping</th>\n",
       "      <th>aggregations</th>\n",
       "      <th>data_layer</th>\n",
       "      <th>granularity_layer</th>\n",
       "      <th>projected_fields</th>\n",
       "      <th>session_id</th>\n",
       "      <th>user_id</th>\n",
       "      <th>project_id</th>\n",
       "      <th>solution</th>\n",
       "    </tr>\n",
       "  </thead>\n",
       "  <tbody>\n",
       "    <tr>\n",
       "      <th>0</th>\n",
       "      <td>1</td>\n",
       "      <td>{\"list\": []}</td>\n",
       "      <td>{\"list\":[]}</td>\n",
       "      <td>{\"list\":[]}</td>\n",
       "      <td>null</td>\n",
       "      <td>{'highest_layer': {'unique': 0.000346901017576...</td>\n",
       "      <td>NaN</td>\n",
       "      <td>{\"list\":[{\"field\":\"number\"},{\"field\":\"sniff_ti...</td>\n",
       "      <td>1</td>\n",
       "      <td>1</td>\n",
       "      <td>1</td>\n",
       "      <td>True</td>\n",
       "    </tr>\n",
       "    <tr>\n",
       "      <th>1</th>\n",
       "      <td>2</td>\n",
       "      <td>{\"list\": []}</td>\n",
       "      <td>{\"list\":[]}</td>\n",
       "      <td>{\"list\":[{\"field\":\"eth_src\",\"groupPriority\":0}]}</td>\n",
       "      <td>null</td>\n",
       "      <td>{'highest_layer': {'unique': 0.000346901017576...</td>\n",
       "      <td>{'agg_attrs': {}, 'size_mean': 4324.0, 'size_v...</td>\n",
       "      <td>{\"list\":[{\"field\":\"number\"},{\"field\":\"sniff_ti...</td>\n",
       "      <td>1</td>\n",
       "      <td>1</td>\n",
       "      <td>1</td>\n",
       "      <td>True</td>\n",
       "    </tr>\n",
       "    <tr>\n",
       "      <th>2</th>\n",
       "      <td>3</td>\n",
       "      <td>{\"list\": []}</td>\n",
       "      <td>{\"list\":[]}</td>\n",
       "      <td>{\"list\":[{\"field\":\"eth_src\",\"groupPriority\":0}...</td>\n",
       "      <td>null</td>\n",
       "      <td>{'highest_layer': {'unique': 0.000346901017576...</td>\n",
       "      <td>{'agg_attrs': {}, 'size_mean': 47.756906077348...</td>\n",
       "      <td>{\"list\":[{\"field\":\"number\"},{\"field\":\"sniff_ti...</td>\n",
       "      <td>1</td>\n",
       "      <td>1</td>\n",
       "      <td>1</td>\n",
       "      <td>True</td>\n",
       "    </tr>\n",
       "    <tr>\n",
       "      <th>3</th>\n",
       "      <td>4</td>\n",
       "      <td>{\"list\": []}</td>\n",
       "      <td>{\"list\":[]}</td>\n",
       "      <td>{\"list\":[]}</td>\n",
       "      <td>null</td>\n",
       "      <td>{'highest_layer': {'unique': 0.000346901017576...</td>\n",
       "      <td>NaN</td>\n",
       "      <td>{\"list\":[{\"field\":\"number\"},{\"field\":\"sniff_ti...</td>\n",
       "      <td>2</td>\n",
       "      <td>5</td>\n",
       "      <td>1</td>\n",
       "      <td>True</td>\n",
       "    </tr>\n",
       "    <tr>\n",
       "      <th>4</th>\n",
       "      <td>5</td>\n",
       "      <td>{\"list\": []}</td>\n",
       "      <td>{\"list\":[]}</td>\n",
       "      <td>{\"list\":[{\"field\":\"eth_src\",\"groupPriority\":0}]}</td>\n",
       "      <td>{\"list\": [{\"field\": \"length\", \"type\": \"avg\"}]}</td>\n",
       "      <td>{'highest_layer': {'unique': 0.000346901017576...</td>\n",
       "      <td>{'agg_attrs': {'length': 0.23137821315975918},...</td>\n",
       "      <td>{\"list\":[{\"field\":\"number\"},{\"field\":\"sniff_ti...</td>\n",
       "      <td>2</td>\n",
       "      <td>5</td>\n",
       "      <td>1</td>\n",
       "      <td>True</td>\n",
       "    </tr>\n",
       "  </tbody>\n",
       "</table>\n",
       "</div>"
      ],
      "text/plain": [
       "   display_id     filtering      sorting  \\\n",
       "0           1  {\"list\": []}  {\"list\":[]}   \n",
       "1           2  {\"list\": []}  {\"list\":[]}   \n",
       "2           3  {\"list\": []}  {\"list\":[]}   \n",
       "3           4  {\"list\": []}  {\"list\":[]}   \n",
       "4           5  {\"list\": []}  {\"list\":[]}   \n",
       "\n",
       "                                            grouping  \\\n",
       "0                                        {\"list\":[]}   \n",
       "1   {\"list\":[{\"field\":\"eth_src\",\"groupPriority\":0}]}   \n",
       "2  {\"list\":[{\"field\":\"eth_src\",\"groupPriority\":0}...   \n",
       "3                                        {\"list\":[]}   \n",
       "4   {\"list\":[{\"field\":\"eth_src\",\"groupPriority\":0}]}   \n",
       "\n",
       "                                     aggregations  \\\n",
       "0                                            null   \n",
       "1                                            null   \n",
       "2                                            null   \n",
       "3                                            null   \n",
       "4  {\"list\": [{\"field\": \"length\", \"type\": \"avg\"}]}   \n",
       "\n",
       "                                          data_layer  \\\n",
       "0  {'highest_layer': {'unique': 0.000346901017576...   \n",
       "1  {'highest_layer': {'unique': 0.000346901017576...   \n",
       "2  {'highest_layer': {'unique': 0.000346901017576...   \n",
       "3  {'highest_layer': {'unique': 0.000346901017576...   \n",
       "4  {'highest_layer': {'unique': 0.000346901017576...   \n",
       "\n",
       "                                   granularity_layer  \\\n",
       "0                                                NaN   \n",
       "1  {'agg_attrs': {}, 'size_mean': 4324.0, 'size_v...   \n",
       "2  {'agg_attrs': {}, 'size_mean': 47.756906077348...   \n",
       "3                                                NaN   \n",
       "4  {'agg_attrs': {'length': 0.23137821315975918},...   \n",
       "\n",
       "                                    projected_fields  session_id  user_id  \\\n",
       "0  {\"list\":[{\"field\":\"number\"},{\"field\":\"sniff_ti...           1        1   \n",
       "1  {\"list\":[{\"field\":\"number\"},{\"field\":\"sniff_ti...           1        1   \n",
       "2  {\"list\":[{\"field\":\"number\"},{\"field\":\"sniff_ti...           1        1   \n",
       "3  {\"list\":[{\"field\":\"number\"},{\"field\":\"sniff_ti...           2        5   \n",
       "4  {\"list\":[{\"field\":\"number\"},{\"field\":\"sniff_ti...           2        5   \n",
       "\n",
       "   project_id solution  \n",
       "0           1     True  \n",
       "1           1     True  \n",
       "2           1     True  \n",
       "3           1     True  \n",
       "4           1     True  "
      ]
     },
     "execution_count": 26,
     "metadata": {},
     "output_type": "execute_result"
    }
   ],
   "source": [
    "repo.displays.head()"
   ]
  },
  {
   "cell_type": "markdown",
   "metadata": {},
   "source": [
    "#### Recreating displays\n",
    "While the display table only contains the display \"summary\",\n",
    "we provide a method, called \"get_raw_display\" that takes a display id and recreate the actual display, excatly as been seen by the user.\n"
   ]
  },
  {
   "cell_type": "code",
   "execution_count": 27,
   "metadata": {
    "collapsed": false
   },
   "outputs": [],
   "source": [
    "raw_df,group_df = repo.get_raw_display(2)"
   ]
  },
  {
   "cell_type": "markdown",
   "metadata": {},
   "source": [
    "raw_df contains a DataFrame that describe the data layer:"
   ]
  },
  {
   "cell_type": "code",
   "execution_count": 28,
   "metadata": {
    "collapsed": false
   },
   "outputs": [
    {
     "data": {
      "text/html": [
       "<div>\n",
       "<table border=\"1\" class=\"dataframe\">\n",
       "  <thead>\n",
       "    <tr style=\"text-align: right;\">\n",
       "      <th></th>\n",
       "      <th>captured_length</th>\n",
       "      <th>eth_dst</th>\n",
       "      <th>eth_src</th>\n",
       "      <th>highest_layer</th>\n",
       "      <th>info_line</th>\n",
       "      <th>interface_captured</th>\n",
       "      <th>ip_dst</th>\n",
       "      <th>ip_src</th>\n",
       "      <th>length</th>\n",
       "      <th>number</th>\n",
       "      <th>project_id</th>\n",
       "      <th>sniff_timestamp</th>\n",
       "      <th>tcp_dstport</th>\n",
       "      <th>tcp_srcport</th>\n",
       "      <th>tcp_stream</th>\n",
       "    </tr>\n",
       "  </thead>\n",
       "  <tbody>\n",
       "    <tr>\n",
       "      <th>0</th>\n",
       "      <td>342</td>\n",
       "      <td>ff:ff:ff:ff:ff:ff</td>\n",
       "      <td>08:00:27:91:fd:44</td>\n",
       "      <td>BOOTP</td>\n",
       "      <td>DHCP Discover - Transaction ID 0xe24df52</td>\n",
       "      <td>255.255.255.255</td>\n",
       "      <td>0.0.0.0</td>\n",
       "      <td>342</td>\n",
       "      <td>1</td>\n",
       "      <td>3</td>\n",
       "      <td>2010-01-01 02:00:29</td>\n",
       "      <td>NaN</td>\n",
       "      <td>NaN</td>\n",
       "      <td>NaN</td>\n",
       "      <td>NaN</td>\n",
       "    </tr>\n",
       "    <tr>\n",
       "      <th>1</th>\n",
       "      <td>590</td>\n",
       "      <td>08:00:27:91:fd:44</td>\n",
       "      <td>52:54:00:12:35:00</td>\n",
       "      <td>BOOTP</td>\n",
       "      <td>DHCP Offer    - Transaction ID 0xe24df52</td>\n",
       "      <td>NaN</td>\n",
       "      <td>10.0.2.15</td>\n",
       "      <td>10.0.2.2</td>\n",
       "      <td>590</td>\n",
       "      <td>2</td>\n",
       "      <td>3</td>\n",
       "      <td>2010-01-01 02:00:29</td>\n",
       "      <td>NaN</td>\n",
       "      <td>NaN</td>\n",
       "      <td>NaN</td>\n",
       "    </tr>\n",
       "    <tr>\n",
       "      <th>2</th>\n",
       "      <td>368</td>\n",
       "      <td>ff:ff:ff:ff:ff:ff</td>\n",
       "      <td>08:00:27:91:fd:44</td>\n",
       "      <td>BOOTP</td>\n",
       "      <td>DHCP Request  - Transaction ID 0xe24df52</td>\n",
       "      <td>NaN</td>\n",
       "      <td>255.255.255.255</td>\n",
       "      <td>0.0.0.0</td>\n",
       "      <td>368</td>\n",
       "      <td>3</td>\n",
       "      <td>3</td>\n",
       "      <td>2010-01-01 02:00:29</td>\n",
       "      <td>NaN</td>\n",
       "      <td>NaN</td>\n",
       "      <td>NaN</td>\n",
       "    </tr>\n",
       "    <tr>\n",
       "      <th>3</th>\n",
       "      <td>590</td>\n",
       "      <td>08:00:27:91:fd:44</td>\n",
       "      <td>52:54:00:12:35:00</td>\n",
       "      <td>BOOTP</td>\n",
       "      <td>DHCP ACK      - Transaction ID 0xe24df52</td>\n",
       "      <td>NaN</td>\n",
       "      <td>10.0.2.15</td>\n",
       "      <td>10.0.2.2</td>\n",
       "      <td>590</td>\n",
       "      <td>4</td>\n",
       "      <td>3</td>\n",
       "      <td>2010-01-01 02:00:29</td>\n",
       "      <td>NaN</td>\n",
       "      <td>NaN</td>\n",
       "      <td>NaN</td>\n",
       "    </tr>\n",
       "    <tr>\n",
       "      <th>4</th>\n",
       "      <td>60</td>\n",
       "      <td>ff:ff:ff:ff:ff:ff</td>\n",
       "      <td>08:00:27:91:fd:44</td>\n",
       "      <td>ARP</td>\n",
       "      <td>Gratuitous ARP for 10.0.2.15 (Request)</td>\n",
       "      <td>NaN</td>\n",
       "      <td>NaN</td>\n",
       "      <td>NaN</td>\n",
       "      <td>60</td>\n",
       "      <td>5</td>\n",
       "      <td>3</td>\n",
       "      <td>2010-01-01 02:00:29</td>\n",
       "      <td>NaN</td>\n",
       "      <td>NaN</td>\n",
       "      <td>NaN</td>\n",
       "    </tr>\n",
       "  </tbody>\n",
       "</table>\n",
       "</div>"
      ],
      "text/plain": [
       "   captured_length            eth_dst            eth_src highest_layer  \\\n",
       "0              342  ff:ff:ff:ff:ff:ff  08:00:27:91:fd:44         BOOTP   \n",
       "1              590  08:00:27:91:fd:44  52:54:00:12:35:00         BOOTP   \n",
       "2              368  ff:ff:ff:ff:ff:ff  08:00:27:91:fd:44         BOOTP   \n",
       "3              590  08:00:27:91:fd:44  52:54:00:12:35:00         BOOTP   \n",
       "4               60  ff:ff:ff:ff:ff:ff  08:00:27:91:fd:44           ARP   \n",
       "\n",
       "                                  info_line interface_captured  \\\n",
       "0  DHCP Discover - Transaction ID 0xe24df52    255.255.255.255   \n",
       "1  DHCP Offer    - Transaction ID 0xe24df52                NaN   \n",
       "2  DHCP Request  - Transaction ID 0xe24df52                NaN   \n",
       "3  DHCP ACK      - Transaction ID 0xe24df52                NaN   \n",
       "4    Gratuitous ARP for 10.0.2.15 (Request)                NaN   \n",
       "\n",
       "            ip_dst    ip_src  length  number           project_id  \\\n",
       "0          0.0.0.0       342       1       3  2010-01-01 02:00:29   \n",
       "1        10.0.2.15  10.0.2.2     590       2                    3   \n",
       "2  255.255.255.255   0.0.0.0     368       3                    3   \n",
       "3        10.0.2.15  10.0.2.2     590       4                    3   \n",
       "4              NaN       NaN      60       5                    3   \n",
       "\n",
       "       sniff_timestamp  tcp_dstport  tcp_srcport  tcp_stream  \n",
       "0                  NaN          NaN          NaN         NaN  \n",
       "1  2010-01-01 02:00:29          NaN          NaN         NaN  \n",
       "2  2010-01-01 02:00:29          NaN          NaN         NaN  \n",
       "3  2010-01-01 02:00:29          NaN          NaN         NaN  \n",
       "4  2010-01-01 02:00:29          NaN          NaN         NaN  "
      ]
     },
     "execution_count": 28,
     "metadata": {},
     "output_type": "execute_result"
    }
   ],
   "source": [
    "raw_df.head()"
   ]
  },
  {
   "cell_type": "markdown",
   "metadata": {},
   "source": [
    "group_df represnet the grouping and aggregations currently employed:"
   ]
  },
  {
   "cell_type": "code",
   "execution_count": 29,
   "metadata": {
    "collapsed": false
   },
   "outputs": [
    {
     "data": {
      "text/html": [
       "<div>\n",
       "<table border=\"1\" class=\"dataframe\">\n",
       "  <thead>\n",
       "    <tr style=\"text-align: right;\">\n",
       "      <th></th>\n",
       "      <th>number</th>\n",
       "    </tr>\n",
       "    <tr>\n",
       "      <th>eth_src</th>\n",
       "      <th></th>\n",
       "    </tr>\n",
       "  </thead>\n",
       "  <tbody>\n",
       "    <tr>\n",
       "      <th>08:00:27:91:fd:44</th>\n",
       "      <td>64</td>\n",
       "    </tr>\n",
       "    <tr>\n",
       "      <th>08:00:27:a1:5f:bf</th>\n",
       "      <td>161</td>\n",
       "    </tr>\n",
       "    <tr>\n",
       "      <th>08:00:27:ba:0b:03</th>\n",
       "      <td>150</td>\n",
       "    </tr>\n",
       "    <tr>\n",
       "      <th>08:00:27:cd:3d:55</th>\n",
       "      <td>38</td>\n",
       "    </tr>\n",
       "    <tr>\n",
       "      <th>52:54:00:12:35:00</th>\n",
       "      <td>332</td>\n",
       "    </tr>\n",
       "  </tbody>\n",
       "</table>\n",
       "</div>"
      ],
      "text/plain": [
       "                   number\n",
       "eth_src                  \n",
       "08:00:27:91:fd:44      64\n",
       "08:00:27:a1:5f:bf     161\n",
       "08:00:27:ba:0b:03     150\n",
       "08:00:27:cd:3d:55      38\n",
       "52:54:00:12:35:00     332"
      ]
     },
     "execution_count": 29,
     "metadata": {},
     "output_type": "execute_result"
    }
   ],
   "source": [
    "group_df"
   ]
  },
  {
   "cell_type": "markdown",
   "metadata": {},
   "source": [
    "## Distance Metric for actions and displays\n",
    "\n",
    "We implemented the distance metric described in the paper,\n",
    "one for analysis actions which uses the distance from the Lowest Common Ancestor (LCA) of two actions\n",
    "and a display distance metric, that compares the structure of each layer for a given two displays"
   ]
  },
  {
   "cell_type": "code",
   "execution_count": 42,
   "metadata": {
    "collapsed": false
   },
   "outputs": [
    {
     "name": "stdout",
     "output_type": "stream",
     "text": [
      "group :  {'aggregations': [], 'field': 'eth_src', 'groupPriority': 0}\n"
     ]
    }
   ],
   "source": [
    "action1=repo.get_action_by_id(1)\n",
    "print(action1.action_type,\": \",action1.action_params)"
   ]
  },
  {
   "cell_type": "code",
   "execution_count": 44,
   "metadata": {
    "collapsed": false
   },
   "outputs": [
    {
     "name": "stdout",
     "output_type": "stream",
     "text": [
      "group :  {'aggregations': [{'field': 'length', 'type': 'avg'}], 'field': 'ip_src', 'groupPriority': 0}\n"
     ]
    }
   ],
   "source": [
    "action4=repo.get_action_by_id(4)\n",
    "print(action4.action_type,\": \",action4.action_params)"
   ]
  },
  {
   "cell_type": "code",
   "execution_count": 45,
   "metadata": {
    "collapsed": false
   },
   "outputs": [
    {
     "data": {
      "text/plain": [
       "0.5555555555555556"
      ]
     },
     "execution_count": 45,
     "metadata": {},
     "output_type": "execute_result"
    }
   ],
   "source": [
    "repo.action_distance(1,4)"
   ]
  },
  {
   "cell_type": "markdown",
   "metadata": {},
   "source": [
    "Now, lets compare the distance of the results displays of the actions above:"
   ]
  },
  {
   "cell_type": "code",
   "execution_count": 53,
   "metadata": {
    "collapsed": false
   },
   "outputs": [],
   "source": [
    "d1 = action1.child_display_id\n",
    "d4 = action4.child_display_id"
   ]
  },
  {
   "cell_type": "code",
   "execution_count": 55,
   "metadata": {
    "collapsed": false
   },
   "outputs": [
    {
     "data": {
      "text/html": [
       "<div>\n",
       "<table border=\"1\" class=\"dataframe\">\n",
       "  <thead>\n",
       "    <tr style=\"text-align: right;\">\n",
       "      <th></th>\n",
       "      <th>number</th>\n",
       "    </tr>\n",
       "    <tr>\n",
       "      <th>eth_src</th>\n",
       "      <th></th>\n",
       "    </tr>\n",
       "  </thead>\n",
       "  <tbody>\n",
       "    <tr>\n",
       "      <th>08:00:27:91:fd:44</th>\n",
       "      <td>64</td>\n",
       "    </tr>\n",
       "    <tr>\n",
       "      <th>08:00:27:a1:5f:bf</th>\n",
       "      <td>161</td>\n",
       "    </tr>\n",
       "    <tr>\n",
       "      <th>08:00:27:ba:0b:03</th>\n",
       "      <td>150</td>\n",
       "    </tr>\n",
       "    <tr>\n",
       "      <th>08:00:27:cd:3d:55</th>\n",
       "      <td>38</td>\n",
       "    </tr>\n",
       "    <tr>\n",
       "      <th>52:54:00:12:35:00</th>\n",
       "      <td>332</td>\n",
       "    </tr>\n",
       "  </tbody>\n",
       "</table>\n",
       "</div>"
      ],
      "text/plain": [
       "                   number\n",
       "eth_src                  \n",
       "08:00:27:91:fd:44      64\n",
       "08:00:27:a1:5f:bf     161\n",
       "08:00:27:ba:0b:03     150\n",
       "08:00:27:cd:3d:55      38\n",
       "52:54:00:12:35:00     332"
      ]
     },
     "execution_count": 55,
     "metadata": {},
     "output_type": "execute_result"
    }
   ],
   "source": [
    "display1=repo.get_display_by_id(d1)\n",
    "_, g1 = repo.get_raw_display(d1)\n",
    "rd1"
   ]
  },
  {
   "cell_type": "code",
   "execution_count": 49,
   "metadata": {
    "collapsed": false
   },
   "outputs": [
    {
     "data": {
      "text/html": [
       "<div>\n",
       "<table border=\"1\" class=\"dataframe\">\n",
       "  <thead>\n",
       "    <tr style=\"text-align: right;\">\n",
       "      <th></th>\n",
       "      <th>number</th>\n",
       "    </tr>\n",
       "    <tr>\n",
       "      <th>eth_src</th>\n",
       "      <th></th>\n",
       "    </tr>\n",
       "  </thead>\n",
       "  <tbody>\n",
       "    <tr>\n",
       "      <th>08:00:27:91:fd:44</th>\n",
       "      <td>64</td>\n",
       "    </tr>\n",
       "    <tr>\n",
       "      <th>08:00:27:a1:5f:bf</th>\n",
       "      <td>161</td>\n",
       "    </tr>\n",
       "    <tr>\n",
       "      <th>08:00:27:ba:0b:03</th>\n",
       "      <td>150</td>\n",
       "    </tr>\n",
       "    <tr>\n",
       "      <th>08:00:27:cd:3d:55</th>\n",
       "      <td>38</td>\n",
       "    </tr>\n",
       "    <tr>\n",
       "      <th>52:54:00:12:35:00</th>\n",
       "      <td>332</td>\n",
       "    </tr>\n",
       "  </tbody>\n",
       "</table>\n",
       "</div>"
      ],
      "text/plain": [
       "                   number\n",
       "eth_src                  \n",
       "08:00:27:91:fd:44      64\n",
       "08:00:27:a1:5f:bf     161\n",
       "08:00:27:ba:0b:03     150\n",
       "08:00:27:cd:3d:55      38\n",
       "52:54:00:12:35:00     332"
      ]
     },
     "execution_count": 49,
     "metadata": {},
     "output_type": "execute_result"
    }
   ],
   "source": [
    "display1=repo.get_display_by_id(d1)\n",
    "_, d = repo.get_raw_display(d1)\n",
    "d"
   ]
  },
  {
   "cell_type": "code",
   "execution_count": null,
   "metadata": {
    "collapsed": true
   },
   "outputs": [],
   "source": []
  }
 ],
 "metadata": {
  "kernelspec": {
   "display_name": "Python 3",
   "language": "python",
   "name": "python3"
  },
  "language_info": {
   "codemirror_mode": {
    "name": "ipython",
    "version": 3
   },
   "file_extension": ".py",
   "mimetype": "text/x-python",
   "name": "python",
   "nbconvert_exporter": "python",
   "pygments_lexer": "ipython3",
   "version": "3.4.5"
  }
 },
 "nbformat": 4,
 "nbformat_minor": 2
}
